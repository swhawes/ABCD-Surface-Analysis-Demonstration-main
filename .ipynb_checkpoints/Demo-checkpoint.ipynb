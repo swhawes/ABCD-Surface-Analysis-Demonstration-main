{
 "cells": [
  {
   "cell_type": "markdown",
   "id": "7acda612",
   "metadata": {},
   "source": [
    "# Demo"
   ]
  },
  {
   "cell_type": "markdown",
   "id": "5f6b35ec",
   "metadata": {},
   "source": [
    "## Imports"
   ]
  },
  {
   "cell_type": "markdown",
   "id": "d6783a91",
   "metadata": {},
   "source": [
    "To run this notebook, you will need to perform the following installations."
   ]
  },
  {
   "cell_type": "code",
   "execution_count": null,
   "id": "d1115ff9",
   "metadata": {},
   "outputs": [],
   "source": [
    "!pip install numpy\n",
    "!pip install nibabel\n",
    "!pip install plotly"
   ]
  },
  {
   "cell_type": "markdown",
   "id": "3fcb224b",
   "metadata": {},
   "source": [
    "We will use the following functions in this notebook."
   ]
  },
  {
   "cell_type": "code",
   "execution_count": null,
   "id": "3faa7608",
   "metadata": {},
   "outputs": [],
   "source": [
    "import os\n",
    "from demo.plot import *"
   ]
  },
  {
   "cell_type": "markdown",
   "id": "a829131d",
   "metadata": {},
   "source": [
    "## The Data"
   ]
  },
  {
   "cell_type": "markdown",
   "id": "f02d650e",
   "metadata": {},
   "source": [
    "In this notebook, we display the results of two mass-univariate Linear Mixed Models. These analyses were performed on surface data drawn from the [Adolescent Brain Cognitive Development (ABCD)](https://abcdstudy.org/) study and conducted using the [Big Linear Mixed Models (BLMM)](https://github.com/TomMaullin/BLMM) toolbox. \n",
    "\n",
    "The experiment conducted in this study was a [working memory N-back task](https://en.wikipedia.org/wiki/N-back) and the response variable of interest was the [percent BOLD](https://en.wikipedia.org/wiki/Blood-oxygen-level-dependent_imaging) (Blood Oxygenation Level Dependent Signal) signal; a measure of blood flow in the brain which acts as a proxy for neuronal activity. Prior analyses produced a 2-vs-0 back contrast image for each subject and session, reflecting the subject's average percent BOLD change in response to the 2-back task during a particular session. In each image, the average percent BOLD change is recorded for every vertex on a predefined cortical surface.\n",
    "\n",
    "We are interested in understanding how a range of independent variables impacted the task-specific \\% BOLD reponse. The design matrix for both analyses included:"
   ]
  },
  {
   "cell_type": "markdown",
   "id": "7e78d470",
   "metadata": {},
   "source": [
    " - An intercept: Modelling average response.\n",
    " - Sex: The subject's biological sex.\n",
    " - Cross-sectional Age: The age of the subject at the first timepoint.\n",
    " - Longitudinal Time: The difference in the subject's age from the first timepoint recorded.\n",
    " - NIH Cognition Score (Age Corrected): The subject's age corrected total score from neurocognitive battery derived from seven measures from the NIH Toolbox (see [here](https://www.ncbi.nlm.nih.gov/pmc/articles/PMC6676481/) for further detail).\n",
    " - Race: Categorical variable indicating the subject's race, encoded as white, black, asian or other.\n",
    " - Ethnicity: Categorical variable indicating the subject's ethnicity, encoded as hispanic or other.\n",
    " - Parental Education Level: Categorical variable representing the subject's parent's education encoded as; high school, college, bachelor and postgraduate.\n",
    " - Family Income: Categorical variable representing the subject's family income, encoded as; less than 50K, 50K-100K, greater than 100K.\n",
    " - Mariatal Status: Categorical variable representing the martiatal status of the subject's parents."
   ]
  },
  {
   "cell_type": "markdown",
   "id": "8376203e",
   "metadata": {},
   "source": [
    "In total, the response data consists of 9835 fMRI surface images. These images were drawn from 5179 subjects, each of whom had data recorded for between 1 and 3 visits. "
   ]
  },
  {
   "cell_type": "markdown",
   "id": "356f3216",
   "metadata": {},
   "source": [
    "The two analysis designs differed in the random effects included in the model."
   ]
  },
  {
   "cell_type": "markdown",
   "id": "b6c94098",
   "metadata": {},
   "source": [
    " - **Design 1:** The first design included a subject-level intecept as a random effect. This had the effect of modelling the within-subject variability in the data.\n",
    " - **Design 2:** The second design included both a subject-level intercept and longitudinal time effect. This modelled the vairation in individual subject's trajectories.\n",
    " \n",
    "As random slopes can not be considered for singleton subjects, design 2 was constrained to consider only subjects with 2 or more visits."
   ]
  },
  {
   "cell_type": "markdown",
   "id": "2cb2d3fa",
   "metadata": {},
   "source": [
    "## The Math"
   ]
  },
  {
   "cell_type": "markdown",
   "id": "9d7b91a6",
   "metadata": {},
   "source": [
    "The Linear Mixed Model can be represented in the form:\n",
    "\n",
    "$$Y = X\\beta + Zb + \\epsilon, \\quad \\epsilon \\sim N(0,\\sigma^2I), \\quad b \\sim N(0,\\sigma^2D)$$\n",
    "\n",
    "where, assuming the model includes $n$ observations, $p$ fixed effects and $q$ random effects, the model matrices are:\n",
    " - $X$: the $(n \\times p)$ fixed effects (independent variables) design matrix.\n",
    " - $Z$: the $(n \\times q)$ random effects design matrix.\n",
    " \n",
    "The random terms are:\n",
    " - $Y$: the $(n \\times 1)$ response vector.\n",
    " - $\\epsilon$: the $(n \\times 1)$ response vector.\n",
    " - $b$: the $(q \\times 1)$ random effects vector.\n",
    " \n",
    "Our interest lies in estimating the parameters:\n",
    " - $\\beta$: the $(p \\times 1)$ response vector.\n",
    " - $\\sigma$: the scalar fixed effects variance.\n",
    " - $D$: The $(q \\times q)$ random effects covariance matrix.\n",
    " \n",
    "Typically $D$ consists of only a few elements, so although $D$ may be large, we only need to estimate a few parameters.\n",
    "\n",
    "The input and output of BLMM is labelled according to the above notational conventions.\n"
   ]
  },
  {
   "cell_type": "markdown",
   "id": "6eedc482",
   "metadata": {},
   "source": [
    "## Running a BLMM Analysis"
   ]
  },
  {
   "cell_type": "markdown",
   "id": "29d9994e",
   "metadata": {},
   "source": [
    "To run a BLMM analysis for this example, the above model must be specified as a `blmm_inputs.yml` file. For these analyses, this will look something like the below:"
   ]
  },
  {
   "cell_type": "markdown",
   "id": "d751f272",
   "metadata": {},
   "source": [
    "```\n",
    "Missingness:\n",
    "  MinPercent: 0.5\n",
    "X: /path/to/X.csv\n",
    "Y_files: /path/to/y_files.txt\n",
    "analysis_mask: /path/to/analysis/mask\n",
    "clusterType: type_of_computational_cluster\n",
    "Z:\n",
    "- f1:\n",
    "    design: /path/to/factor_design_matrix.csv\n",
    "    factor: /path/to/factor_vector.csv\n",
    "contrasts:\n",
    "- c1:\n",
    "    name: Intercept\n",
    "    vector: [1, 0, 0, 0, 0, 0, 0, 0, 0, 0, 0, 0, 0, 0, 0, 0, 0, 0, 0, 0, 0, 0, 0]\n",
    "- c2:\n",
    "    name: Sex\n",
    "    vector: [0, 1, 0, 0, 0, 0, 0, 0, 0, 0, 0, 0, 0, 0, 0, 0, 0, 0, 0, 0, 0, 0, 0]\n",
    "- c3:\n",
    "    name: Cross_sectional_age\n",
    "    vector: [0, 0, 1, 0, 0, 0, 0, 0, 0, 0, 0, 0, 0, 0, 0, 0, 0, 0, 0, 0, 0, 0, 0]\n",
    "- c4:\n",
    "    name: Longitudinal_time\n",
    "    vector: [0, 0, 0, 1, 0, 0, 0, 0, 0, 0, 0, 0, 0, 0, 0, 0, 0, 0, 0, 0, 0, 0, 0]\n",
    "- c5:\n",
    "    name: NIH_score\n",
    "    vector: [0, 0, 0, 0, 1, 0, 0, 0, 0, 0, 0, 0, 0, 0, 0, 0, 0, 0, 0, 0, 0, 0, 0]\n",
    "outdir: /path/to/output_directory\n",
    "```"
   ]
  },
  {
   "cell_type": "markdown",
   "id": "63e9ba11",
   "metadata": {},
   "source": [
    "In the above inputs file, the `Missingness` parameters specify what the BLMM code should do in the presence of missing data (here `MinPercent: 0.5` tells BLMM to report results for any vertex with at least 50\\% of observations present. The `X.csv` file contains the previously listed dependent variables, concatenated into a matrix of size $(n \\times p)$ and `Y_files.txt` is a text file containing a list of surface images. Also specified is an analysis mask, which tells the BLMM code which vertices in the image we wish to perform an analysis upon, and the type of computational cluster the code is to be ran on (e.g. Local, SLURM, SGE, etc).\n",
    "\n",
    "The random effects in the model are specified by `Z`. As `Z` contains only one grouping factor (observations are grouped by `subject` only), there is only one entry in `Z`; the entry `f1`. To specify the subject-specific random effects, two files must be specified under `f1`. The first file is a csv containing the analysis `design`; that is, the matrix formed from the variables that should be stratified by subject (an intercept for design 1, and an intercept and longitudinal time for design 2). The second entry is an $(n \\times 1)$ `factor` vector, which indicates which observation belonged to which subject. For instance, if the $5^{th}$ entry of the factor vector equals $2$, then the fifth observation in the analysis was drawn from the second subject.\n",
    "\n",
    "Finally, the inputs file specifies an output directory and five contrast vectors for null hypothesis testing. In this example, these correspond to an intercept, sex, cross sectional age, longitudinal time and NIH score.\n"
   ]
  },
  {
   "cell_type": "markdown",
   "id": "9b741026",
   "metadata": {},
   "source": [
    "## Analysis Results"
   ]
  },
  {
   "cell_type": "markdown",
   "id": "851df286",
   "metadata": {},
   "source": [
    "The results of the blmm analyses run using the above inputs can be found in the `demo` folder. The results have the following folder name conventions:\n",
    "\n",
    " - `lh`/`rh`: This indicates whether the analysis results are for the left or right hemisphere.\n",
    " - `des1`/`des2`: This indicates whether the analysis results are for the first or second design."
   ]
  },
  {
   "cell_type": "markdown",
   "id": "1f9e4a12",
   "metadata": {},
   "source": [
    "For each analysis, we have the following output files:\n",
    "\n",
    "\n",
    "| Filename  | Description  |\n",
    "|---|---|\n",
    "| `blmm_vox_mask` | This is the analysis mask. |\n",
    "| `blmm_vox_n` | This is a map of the number of input images which contributed to each vertex in the final analysis. |\n",
    "| `blmm_vox_edf` | This is the error degrees of freedom\\*. |\n",
    "| `blmm_vox_beta`  | These are the beta (fixed effects parameter) estimates.  |\n",
    "| `blmm_vox_sigma2`  | These are the sigma2 (fixed effects variance) estimates.  |\n",
    "| `blmm_vox_D`  | These are the D (random effects variance) estimates\\*\\*. |\n",
    "| `blmm_vox_llh` | These are the log likelihood values. |\n",
    "| `blmm_vox_con`  | These are the estimated contrasts. In our example, these were computed for the `intercept`, `sex`, `cross sectional age`, `longitudinal time` and `NIH score`.  |\n",
    "| `blmm_vox_conSE` | These are the standard error of the contrasts multiplied by beta. |\n",
    "| `blmm_vox_conT` | These are the T statistics for the contrasts. |\n",
    "| `blmm_vox_conTlp` | These are the maps of -log10 of the uncorrected P values for the contrasts. |\n",
    "| `blmm_vox_conT_swedf` | These are the maps of Sattherthwaithe degrees of freedom estimates for the contrasts. |\n",
    "\n"
   ]
  },
  {
   "cell_type": "markdown",
   "id": "a3cf92a6",
   "metadata": {},
   "source": [
    "To view our results, we will need some files representing the geometry of the brain. We shall use the `fsaverage5` `pial` surfaces taken from the `freesurfer` software package."
   ]
  },
  {
   "cell_type": "code",
   "execution_count": null,
   "id": "22541907",
   "metadata": {},
   "outputs": [],
   "source": [
    "# Geometry file names\n",
    "geom_lh = os.path.join(os.getcwd(),'demo','geom','lh.pial')\n",
    "geom_rh = os.path.join(os.getcwd(),'demo','geom','rh.pial')"
   ]
  },
  {
   "cell_type": "markdown",
   "id": "90b4c35f",
   "metadata": {},
   "source": [
    "To help read in the files we have provided a function that automatically generates the filename of the file you want to look at."
   ]
  },
  {
   "cell_type": "code",
   "execution_count": null,
   "id": "768bafd0",
   "metadata": {},
   "outputs": [],
   "source": [
    "# Specify the analysis you want to look at (des1, des2)\n",
    "analysis = 'des1'\n",
    "\n",
    "# Specify the hemisphere you want to look at (left or right)\n",
    "hemisphere = 'left'\n",
    "\n",
    "# Specify the image type you want to look at (e.g. 'D' gives blmm_vox_D.dat)\n",
    "image = 'beta'\n",
    "\n",
    "# Get filename\n",
    "data = get_fname(analysis, hemisphere, image)"
   ]
  },
  {
   "cell_type": "markdown",
   "id": "e6be5484",
   "metadata": {},
   "source": [
    "We have provided the below function to view the results. \n",
    "\n",
    "For images, that contain multiple volumes, the `volume_number` argument can be used to look at different volumes. For example, the `con` image contains 5 contrast estimate images which can be accessed by setting the `volume_number` to `0,1,2,3` or `4`."
   ]
  },
  {
   "cell_type": "code",
   "execution_count": null,
   "id": "01af154b",
   "metadata": {},
   "outputs": [],
   "source": [
    "# Change volume number to view different images\n",
    "plot_brain_surface(data, geom_lh, volume_number=1)"
   ]
  },
  {
   "cell_type": "markdown",
   "id": "ae792de2",
   "metadata": {},
   "source": [
    "## Model Comparison"
   ]
  },
  {
   "cell_type": "markdown",
   "id": "fd478260",
   "metadata": {},
   "source": [
    "BLMM also allows for model comparison between the two designs. This can be performed in BLMM using the `blmm_compare` function. The files output in this case are given by:"
   ]
  },
  {
   "cell_type": "markdown",
   "id": "912b13dd",
   "metadata": {},
   "source": [
    "\n",
    "\n",
    "| Filename  | Description  |\n",
    "|---|---|\n",
    "| `blmm_vox_mask` | This is the analysis mask (this will be the intersection of the masks from each analysis). |\n",
    "| `blmm_vox_Chi2.nii` | This is the map of the Likelihood Ratio Statistic. |\n",
    "| `blmm_vox_Chi2lp.nii` | This is the map of -log10 of the uncorrected P values for the likelihood ratio test. |"
   ]
  },
  {
   "cell_type": "markdown",
   "id": "0b074871",
   "metadata": {},
   "source": [
    "These results can also be viewed by setting `analysis='compare'` in the above code.\n",
    "\n",
    "**Note:** To perform comparison, the analyses must have equal sample sizes. For this reason the above is actually a comparison between model 2 and a reduced version of model 1 which only contained the subjects with 2 or more visits."
   ]
  }
 ],
 "metadata": {
  "kernelspec": {
   "display_name": "Python 3 (ipykernel)",
   "language": "python",
   "name": "python3"
  },
  "language_info": {
   "codemirror_mode": {
    "name": "ipython",
    "version": 3
   },
   "file_extension": ".py",
   "mimetype": "text/x-python",
   "name": "python",
   "nbconvert_exporter": "python",
   "pygments_lexer": "ipython3",
   "version": "3.7.2"
  }
 },
 "nbformat": 4,
 "nbformat_minor": 5
}
